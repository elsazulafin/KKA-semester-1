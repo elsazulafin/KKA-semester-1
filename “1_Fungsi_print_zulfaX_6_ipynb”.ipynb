{
  "cells": [
    {
      "cell_type": "markdown",
      "metadata": {
        "id": "view-in-github",
        "colab_type": "text"
      },
      "source": [
        "<a href=\"https://colab.research.google.com/github/elsazulafin/KKA-semester-1/blob/main/%E2%80%9C1_Fungsi_print_zulfaX_6_ipynb%E2%80%9D.ipynb\" target=\"_parent\"><img src=\"https://colab.research.google.com/assets/colab-badge.svg\" alt=\"Open In Colab\"/></a>"
      ]
    },
    {
      "cell_type": "code",
      "execution_count": null,
      "metadata": {
        "id": "gkLNMn1x0o6I"
      },
      "outputs": [],
      "source": [
        "Nama: Elsa Zulafin Zulfa"
      ]
    },
    {
      "cell_type": "code",
      "execution_count": null,
      "metadata": {
        "id": "qpDwzbaS0uLC"
      },
      "outputs": [],
      "source": [
        "Kelas: X.6"
      ]
    },
    {
      "cell_type": "code",
      "execution_count": null,
      "metadata": {
        "id": "WpLj0T7J0wKo"
      },
      "outputs": [],
      "source": [
        "Absen: 9"
      ]
    },
    {
      "cell_type": "code",
      "execution_count": null,
      "metadata": {
        "colab": {
          "base_uri": "https://localhost:8080/"
        },
        "id": "sLUXKAmg00MU",
        "outputId": "9ff36f1e-bd96-4ea4-92a5-32e2f82aaa36"
      },
      "outputs": [
        {
          "name": "stdout",
          "output_type": "stream",
          "text": [
            "halo dunia\n"
          ]
        }
      ],
      "source": [
        "print(\"halo dunia\")"
      ]
    },
    {
      "cell_type": "code",
      "execution_count": null,
      "metadata": {
        "colab": {
          "base_uri": "https://localhost:8080/"
        },
        "id": "rUIjmk0q1Yix",
        "outputId": "ed0bb180-693b-43a4-9178-1a5b617bc0dd"
      },
      "outputs": [
        {
          "name": "stdout",
          "output_type": "stream",
          "text": [
            "elsa zulafin zulfa\n"
          ]
        }
      ],
      "source": [
        "print(\"elsa zulafin zulfa\")"
      ]
    },
    {
      "cell_type": "code",
      "execution_count": null,
      "metadata": {
        "colab": {
          "base_uri": "https://localhost:8080/"
        },
        "id": "UlPieJMy1giN",
        "outputId": "1df6f36a-620e-4cb9-9adc-88239d88f370"
      },
      "outputs": [
        {
          "name": "stdout",
          "output_type": "stream",
          "text": [
            "\n",
            "nama:elsa zulafin zulfa \n",
            "kelas:x6\n",
            "absen:\n",
            "\n"
          ]
        }
      ],
      "source": [
        "print(\"\"\"\n",
        "nama:elsa zulafin zulfa\n",
        "kelas:x6\n",
        "absen:\n",
        "\"\"\")"
      ]
    },
    {
      "cell_type": "code",
      "execution_count": null,
      "metadata": {
        "colab": {
          "base_uri": "https://localhost:8080/"
        },
        "id": "xB1K3AtF2sYM",
        "outputId": "1388fead-3ed2-4d98-825d-219cf70df6a1"
      },
      "outputs": [
        {
          "name": "stdout",
          "output_type": "stream",
          "text": [
            "\n",
            "Halo dunia\n",
            "Hari ini saya belajar bahasa python\n"
          ]
        }
      ],
      "source": [
        "print(\"\"\"\n",
        "Halo dunia\n",
        "Hari ini saya belajar bahasa python\"\"\")"
      ]
    },
    {
      "cell_type": "code",
      "execution_count": null,
      "metadata": {
        "colab": {
          "base_uri": "https://localhost:8080/"
        },
        "id": "2u2yZz0I3EUz",
        "outputId": "fa224361-c580-46ea-e342-c7fa027b4a68"
      },
      "outputs": [
        {
          "name": "stdout",
          "output_type": "stream",
          "text": [
            "elsa zulafin zulfa\n",
            "14\n"
          ]
        }
      ],
      "source": [
        "Nama = \"elsa zulafin zulfa\"\n",
        "Usia = 14\n",
        "\n",
        "print(Nama)\n",
        "print(Usia)"
      ]
    },
    {
      "cell_type": "code",
      "execution_count": null,
      "metadata": {
        "colab": {
          "base_uri": "https://localhost:8080/"
        },
        "id": "a1HPvhPw34yQ",
        "outputId": "03e34d87-0106-4e66-a143-160e40b98d9b"
      },
      "outputs": [
        {
          "name": "stdout",
          "output_type": "stream",
          "text": [
            "pink\n",
            "48\n"
          ]
        }
      ],
      "source": [
        "warna_favorit = \"pink\"\n",
        "berat_badan = 48\n",
        "\n",
        "print(warna_favorit)\n",
        "print(berat_badan)\n"
      ]
    },
    {
      "cell_type": "code",
      "execution_count": null,
      "metadata": {
        "colab": {
          "base_uri": "https://localhost:8080/"
        },
        "id": "0kw1zTyK5qsj",
        "outputId": "da49cdd4-6749-42dd-9b42-f73dbbe57348"
      },
      "outputs": [
        {
          "name": "stdout",
          "output_type": "stream",
          "text": [
            "Nama elsa zulafin zulfa\n"
          ]
        }
      ],
      "source": [
        "print(\"Nama \" + Nama)"
      ]
    },
    {
      "cell_type": "code",
      "execution_count": null,
      "metadata": {
        "colab": {
          "base_uri": "https://localhost:8080/"
        },
        "id": "b4vBOtXb7EeG",
        "outputId": "86475e71-0117-4462-8269-823f4e5da93f"
      },
      "outputs": [
        {
          "name": "stdout",
          "output_type": "stream",
          "text": [
            "berat_badan 48\n"
          ]
        }
      ],
      "source": [
        "print(\"berat_badan \" + str(berat_badan))"
      ]
    },
    {
      "cell_type": "code",
      "execution_count": null,
      "metadata": {
        "colab": {
          "base_uri": "https://localhost:8080/"
        },
        "id": "UFVyb_7IyqNA",
        "outputId": "d1f7ad40-4e78-41d2-ef9c-d365c53ef130"
      },
      "outputs": [
        {
          "name": "stdout",
          "output_type": "stream",
          "text": [
            "Nama: elsa zulafin zulfa loh\n"
          ]
        }
      ],
      "source": [
        "print(\"Nama:\", Nama ,\"loh\")"
      ]
    },
    {
      "cell_type": "code",
      "execution_count": null,
      "metadata": {
        "colab": {
          "base_uri": "https://localhost:8080/"
        },
        "id": "aOISe1G14UXR",
        "outputId": "40b03e52-60c9-4b1b-f449-c3216baddb3d"
      },
      "outputs": [
        {
          "name": "stdout",
          "output_type": "stream",
          "text": [
            "berat_badan: 48\n"
          ]
        }
      ],
      "source": [
        "print(\"berat_badan:\" , berat_badan)"
      ]
    },
    {
      "cell_type": "code",
      "execution_count": null,
      "metadata": {
        "colab": {
          "base_uri": "https://localhost:8080/"
        },
        "id": "i0UmyjS75S_T",
        "outputId": "9427ec12-08a0-4437-dcf7-b02103f33812"
      },
      "outputs": [
        {
          "name": "stdout",
          "output_type": "stream",
          "text": [
            "Nama: elsa zulafin zulfa loh\n"
          ]
        }
      ],
      "source": [
        "print(f\"Nama: {Nama} loh\")"
      ]
    },
    {
      "cell_type": "code",
      "execution_count": null,
      "metadata": {
        "colab": {
          "base_uri": "https://localhost:8080/"
        },
        "id": "UkExL7kd946V",
        "outputId": "1152a689-47cb-4f4a-9143-fa4ee340e754"
      },
      "outputs": [
        {
          "name": "stdout",
          "output_type": "stream",
          "text": [
            "Nama: Elsa Zulafin Zulfa\n",
            "Kelas: X.6\n",
            "No. Absen: 9\n"
          ]
        }
      ],
      "source": [
        "print(\"\"\"Nama: Elsa Zulafin Zulfa\n",
        "Kelas: X.6\n",
        "No. Absen: 9\"\"\")"
      ]
    },
    {
      "cell_type": "code",
      "execution_count": null,
      "metadata": {
        "colab": {
          "base_uri": "https://localhost:8080/"
        },
        "id": "bXwd1isV-SkG",
        "outputId": "a33c18ef-ad2c-4257-9931-1a09b77a395a"
      },
      "outputs": [
        {
          "output_type": "stream",
          "name": "stdout",
          "text": [
            "Nama: Elsa Zulafin Zulfa\n",
            "Kelas: X.6\n",
            "No. Absen: 29\n"
          ]
        }
      ],
      "source": [
        "print(\"Nama: Elsa Zulafin Zulfa\")\n",
        "print(\"Kelas: X.6\")\n",
        "print(\"No. Absen: 29\")"
      ]
    },
    {
      "cell_type": "code",
      "execution_count": null,
      "metadata": {
        "colab": {
          "base_uri": "https://localhost:8080/"
        },
        "id": "mhTNaJso-8Eu",
        "outputId": "90181156-f247-4c9d-a5cf-a5d15c8e61aa"
      },
      "outputs": [
        {
          "name": "stdout",
          "output_type": "stream",
          "text": [
            "Nama: Elsa Zulafin Zulfa\n",
            "Kelas: X.6\n",
            "No. Absen: 9\n"
          ]
        }
      ],
      "source": [
        "print(\"Nama: Elsa Zulafin Zulfa\\nKelas: X.6\\nNo. Absen: 9\")"
      ]
    },
    {
      "cell_type": "code",
      "execution_count": null,
      "metadata": {
        "colab": {
          "background_save": true
        },
        "id": "9EC-eLSQ_RuX",
        "outputId": "c7cf4430-3b04-435f-ec51-4f5ebaeedf34"
      },
      "outputs": [
        {
          "name": "stdout",
          "output_type": "stream",
          "text": [
            "Nama\t\t: Elsa Zulafin Zulfa\n",
            "Keas\t\t: X.6\n",
            "No. Absen\t: 9\n"
          ]
        }
      ],
      "source": [
        "print(\"Nama\\t\\t: Elsa Zulafin Zulfa\\nKeas\\t\\t: X.6\\nNo. Absen\\t\")"
      ]
    },
    {
      "cell_type": "code",
      "source": [
        "print('Elsa berkata,\"tolong perhatikan kelayar TV!\".')"
      ],
      "metadata": {
        "id": "tcIQoXG8wu-o"
      },
      "execution_count": null,
      "outputs": []
    },
    {
      "cell_type": "markdown",
      "source": [
        "Parameter Fungsi Print"
      ],
      "metadata": {
        "id": "XBlgw0yN72HH"
      }
    },
    {
      "cell_type": "code",
      "source": [
        "tahun= 2010\n",
        "bulan= \"oktober\"\n",
        "tanggal= 18\n",
        "\n",
        "print(tahun, end=\"-\")\n",
        "print(bulan, end=\"-\")\n",
        "print(tanggal)"
      ],
      "metadata": {
        "id": "Q-KJXvWz86fh",
        "colab": {
          "base_uri": "https://localhost:8080/"
        },
        "outputId": "5abb7e75-5d93-4c00-967d-789b0ba48142"
      },
      "execution_count": null,
      "outputs": [
        {
          "output_type": "stream",
          "name": "stdout",
          "text": [
            "2010-oktober-18\n"
          ]
        }
      ]
    },
    {
      "cell_type": "code",
      "source": [
        "print(tanggal, end=\"/\")\n",
        "print(bulan, end=\"/\")\n",
        "print(tanggal)"
      ],
      "metadata": {
        "colab": {
          "base_uri": "https://localhost:8080/"
        },
        "id": "ISjHOF8v-JUA",
        "outputId": "066d73ea-caf8-4ad0-bd40-e8ac05be0d0e"
      },
      "execution_count": null,
      "outputs": [
        {
          "output_type": "stream",
          "name": "stdout",
          "text": [
            "18/oktober/18\n"
          ]
        }
      ]
    },
    {
      "cell_type": "code",
      "source": [
        "nama_siswa_1 = \"Fida\"\n",
        "nama_siswa_2 = \"Aji\"\n",
        "nama_siswa_3 = \"Hadziq\"\n",
        "\n",
        "print(nama_siswa_1, end=\"~\")\n",
        "print(nama_siswa_2, end=\"~\")\n",
        "print(nama_siswa_3, end=\"~\")"
      ],
      "metadata": {
        "colab": {
          "base_uri": "https://localhost:8080/"
        },
        "id": "xP5CLfX7-Jx7",
        "outputId": "84d42947-6976-4ffe-9719-3dc83423a09f"
      },
      "execution_count": null,
      "outputs": [
        {
          "output_type": "stream",
          "name": "stdout",
          "text": [
            "Fida~Aji~Hadziq~"
          ]
        }
      ]
    },
    {
      "cell_type": "code",
      "source": [
        "print(nama_siswa_2, nama_siswa_1, nama_siswa_3, nama_siswa_2, sep=\"-\")"
      ],
      "metadata": {
        "colab": {
          "base_uri": "https://localhost:8080/"
        },
        "id": "Ff_Vwca2Bv17",
        "outputId": "e637a4b0-9062-4afe-bcc8-bd76e1e96911"
      },
      "execution_count": null,
      "outputs": [
        {
          "output_type": "stream",
          "name": "stdout",
          "text": [
            "Aji-Fida-Hadziq-Aji\n"
          ]
        }
      ]
    }
  ],
  "metadata": {
    "colab": {
      "provenance": [],
      "authorship_tag": "ABX9TyN/fGduGdPO9AL0BJ0+EDLm",
      "include_colab_link": true
    },
    "kernelspec": {
      "display_name": "Python 3",
      "name": "python3"
    },
    "language_info": {
      "name": "python"
    }
  },
  "nbformat": 4,
  "nbformat_minor": 0
}